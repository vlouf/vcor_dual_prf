{
 "cells": [
  {
   "cell_type": "code",
   "execution_count": 1,
   "metadata": {},
   "outputs": [
    {
     "name": "stdout",
     "output_type": "stream",
     "text": [
      "\n",
      "## You are using the Python ARM Radar Toolkit (Py-ART), an open source\n",
      "## library for working with weather radar data. Py-ART is partly\n",
      "## supported by the U.S. Department of Energy as part of the Atmospheric\n",
      "## Radiation Measurement (ARM) Climate Research Facility, an Office of\n",
      "## Science user facility.\n",
      "##\n",
      "## If you use this software to prepare a publication, please cite:\n",
      "##\n",
      "##     JJ Helmus and SM Collis, JORS 2016, doi: 10.5334/jors.119\n",
      "\n"
     ]
    },
    {
     "name": "stderr",
     "output_type": "stream",
     "text": [
      "/g/data/en0/jss548/miniconda3/envs/openradar/lib/python3.8/site-packages/tqdm/auto.py:22: TqdmWarning: IProgress not found. Please update jupyter and ipywidgets. See https://ipywidgets.readthedocs.io/en/stable/user_install.html\n",
      "  from .autonotebook import tqdm as notebook_tqdm\n"
     ]
    }
   ],
   "source": [
    "#test vcor for odimh5 data\n",
    "import pyart\n",
    "import vcor_dual_prf\n"
   ]
  },
  {
   "cell_type": "code",
   "execution_count": 2,
   "metadata": {},
   "outputs": [],
   "source": [
    "new_odim_nodualprf = '/g/data/kl02/jss548/aura/testing_files/dualprf/66_20231210_032500.pvol.h5'\n",
    "new_odim_dualprf = '/g/data/kl02/jss548/aura/testing_files/dualprf/95_20240320_045100.pvol.h5'\n",
    "old_odim = '/g/data/kl02/jss548/aura/testing_files/dualprf/dualprf_IDR03_2012.h5'\n",
    "old_odim2 = '/g/data/kl02/jss548/aura/testing_files/dualprf/03_20200915_090523_mixed_single_dual.pvol.h5'\n"
   ]
  },
  {
   "cell_type": "code",
   "execution_count": 5,
   "metadata": {},
   "outputs": [
    {
     "ename": "KeyError",
     "evalue": "\"Can't open attribute (can't locate attribute: 'rapic_UNFOLDING')\"",
     "output_type": "error",
     "traceback": [
      "\u001b[0;31m---------------------------------------------------------------------------\u001b[0m",
      "\u001b[0;31mKeyError\u001b[0m                                  Traceback (most recent call last)",
      "Cell \u001b[0;32mIn[5], line 2\u001b[0m\n\u001b[1;32m      1\u001b[0m radar \u001b[38;5;241m=\u001b[39m pyart\u001b[38;5;241m.\u001b[39maux_io\u001b[38;5;241m.\u001b[39mread_odim_h5(new_odim_dualprf)\n\u001b[0;32m----> 2\u001b[0m radar \u001b[38;5;241m=\u001b[39m \u001b[43mvcor_dual_prf\u001b[49m\u001b[38;5;241;43m.\u001b[39;49m\u001b[43minstrument_parameters_odim5\u001b[49m\u001b[43m(\u001b[49m\u001b[43mradar\u001b[49m\u001b[38;5;241;43m=\u001b[39;49m\u001b[43mradar\u001b[49m\u001b[43m,\u001b[49m\u001b[43m \u001b[49m\u001b[43modim_file\u001b[49m\u001b[38;5;241;43m=\u001b[39;49m\u001b[43mnew_odim_dualprf\u001b[49m\u001b[43m)\u001b[49m\n",
      "File \u001b[0;32m~/dev/repo-lib/vcor_dual_prf/examples/vcor_dual_prf.py:208\u001b[0m, in \u001b[0;36minstrument_parameters_odim5\u001b[0;34m(radar, odim_file)\u001b[0m\n\u001b[1;32m    190\u001b[0m \u001b[38;5;28;01mdef\u001b[39;00m \u001b[38;5;21minstrument_parameters_odimh5\u001b[39m(radar, odim_file):\n\u001b[1;32m    191\u001b[0m     \u001b[38;5;124;03m\"\"\"\u001b[39;00m\n\u001b[1;32m    192\u001b[0m \u001b[38;5;124;03m    Builds the dictionary 'instrument_parameters' in the radar instance, \u001b[39;00m\n\u001b[1;32m    193\u001b[0m \u001b[38;5;124;03m    using the parameter metadata in the input odim5 file.\u001b[39;00m\n\u001b[0;32m   (...)\u001b[0m\n\u001b[1;32m    205\u001b[0m \u001b[38;5;124;03m        Py-ART radar structure with added 'instrument_parameters' dictionary.\u001b[39;00m\n\u001b[1;32m    206\u001b[0m \u001b[38;5;124;03m    \"\"\"\u001b[39;00m\n\u001b[0;32m--> 208\u001b[0m     ny, prt, prt_mode, prt_ratio, prf_flag \u001b[38;5;241m=\u001b[39m _get_prf_pars_odimh5(odim_file, nrays\u001b[38;5;241m=\u001b[39mradar\u001b[38;5;241m.\u001b[39mnrays, \n\u001b[1;32m    209\u001b[0m                                                                   nsweeps\u001b[38;5;241m=\u001b[39mradar\u001b[38;5;241m.\u001b[39mnsweeps, sw_start_end\u001b[38;5;241m=\u001b[39mradar\u001b[38;5;241m.\u001b[39mget_start_end)\n\u001b[1;32m    211\u001b[0m     \u001b[38;5;66;03m# Create dictionaries\u001b[39;00m\n\u001b[1;32m    212\u001b[0m     mode_dict \u001b[38;5;241m=\u001b[39m {\u001b[38;5;124m'\u001b[39m\u001b[38;5;124mcomments\u001b[39m\u001b[38;5;124m'\u001b[39m: \u001b[38;5;124m'\u001b[39m\u001b[38;5;124mPulsing mode Options are: \u001b[39m\u001b[38;5;124m\"\u001b[39m\u001b[38;5;124mfixed\u001b[39m\u001b[38;5;124m\"\u001b[39m\u001b[38;5;124m, \u001b[39m\u001b[38;5;124m\"\u001b[39m\u001b[38;5;124mstaggered\u001b[39m\u001b[38;5;124m\"\u001b[39m\u001b[38;5;124m, \u001b[39m\u001b[38;5;124m\"\u001b[39m\u001b[38;5;124mdual\u001b[39m\u001b[38;5;124m\"\u001b[39m\u001b[38;5;124m. Assumed \u001b[39m\u001b[38;5;124m\"\u001b[39m\u001b[38;5;124mfixed\u001b[39m\u001b[38;5;124m\"\u001b[39m\u001b[38;5;124m if missing.\u001b[39m\u001b[38;5;124m'\u001b[39m,\n\u001b[1;32m    213\u001b[0m                  \u001b[38;5;124m'\u001b[39m\u001b[38;5;124mmeta_group\u001b[39m\u001b[38;5;124m'\u001b[39m: \u001b[38;5;124m'\u001b[39m\u001b[38;5;124minstrument_parameters\u001b[39m\u001b[38;5;124m'\u001b[39m,\n\u001b[1;32m    214\u001b[0m                  \u001b[38;5;124m'\u001b[39m\u001b[38;5;124mlong_name\u001b[39m\u001b[38;5;124m'\u001b[39m: \u001b[38;5;124m'\u001b[39m\u001b[38;5;124mPulsing mode\u001b[39m\u001b[38;5;124m'\u001b[39m,\n\u001b[1;32m    215\u001b[0m                  \u001b[38;5;124m'\u001b[39m\u001b[38;5;124munits\u001b[39m\u001b[38;5;124m'\u001b[39m: \u001b[38;5;124m'\u001b[39m\u001b[38;5;124munitless\u001b[39m\u001b[38;5;124m'\u001b[39m,\n\u001b[1;32m    216\u001b[0m                  \u001b[38;5;124m'\u001b[39m\u001b[38;5;124mdata\u001b[39m\u001b[38;5;124m'\u001b[39m: prt_mode}\n",
      "File \u001b[0;32m~/dev/repo-lib/vcor_dual_prf/examples/vcor_dual_prf.py:604\u001b[0m, in \u001b[0;36m_get_prf_pars_odimh5\u001b[0;34m(odim_file, nrays, nsweeps, sw_start_end)\u001b[0m\n\u001b[1;32m    602\u001b[0m ny \u001b[38;5;241m=\u001b[39m d_how[\u001b[38;5;124m'\u001b[39m\u001b[38;5;124mNI\u001b[39m\u001b[38;5;124m'\u001b[39m]              \u001b[38;5;66;03m# Nyquist\u001b[39;00m\n\u001b[1;32m    603\u001b[0m prf_h \u001b[38;5;241m=\u001b[39m d_how[\u001b[38;5;124m'\u001b[39m\u001b[38;5;124mhighprf\u001b[39m\u001b[38;5;124m'\u001b[39m]\n\u001b[0;32m--> 604\u001b[0m prf_ratio \u001b[38;5;241m=\u001b[39m \u001b[43md_how\u001b[49m\u001b[43m[\u001b[49m\u001b[38;5;124;43m'\u001b[39;49m\u001b[38;5;124;43mrapic_UNFOLDING\u001b[39;49m\u001b[38;5;124;43m'\u001b[39;49m\u001b[43m]\u001b[49m \u001b[38;5;66;03m# the prf ratio (e.g. 2:3 etc) or None\u001b[39;00m\n\u001b[1;32m    605\u001b[0m prf_type \u001b[38;5;241m=\u001b[39m d_how[\u001b[38;5;124m'\u001b[39m\u001b[38;5;124mrapic_HIPRF\u001b[39m\u001b[38;5;124m'\u001b[39m]\n\u001b[1;32m    607\u001b[0m \u001b[38;5;66;03m# extract rays for current sweep\u001b[39;00m\n",
      "File \u001b[0;32mh5py/_objects.pyx:54\u001b[0m, in \u001b[0;36mh5py._objects.with_phil.wrapper\u001b[0;34m()\u001b[0m\n",
      "File \u001b[0;32mh5py/_objects.pyx:55\u001b[0m, in \u001b[0;36mh5py._objects.with_phil.wrapper\u001b[0;34m()\u001b[0m\n",
      "File \u001b[0;32m/g/data/en0/jss548/miniconda3/envs/openradar/lib/python3.8/site-packages/h5py/_hl/attrs.py:56\u001b[0m, in \u001b[0;36mAttributeManager.__getitem__\u001b[0;34m(self, name)\u001b[0m\n\u001b[1;32m     52\u001b[0m \u001b[38;5;129m@with_phil\u001b[39m\n\u001b[1;32m     53\u001b[0m \u001b[38;5;28;01mdef\u001b[39;00m \u001b[38;5;21m__getitem__\u001b[39m(\u001b[38;5;28mself\u001b[39m, name):\n\u001b[1;32m     54\u001b[0m     \u001b[38;5;124;03m\"\"\" Read the value of an attribute.\u001b[39;00m\n\u001b[1;32m     55\u001b[0m \u001b[38;5;124;03m    \"\"\"\u001b[39;00m\n\u001b[0;32m---> 56\u001b[0m     attr \u001b[38;5;241m=\u001b[39m \u001b[43mh5a\u001b[49m\u001b[38;5;241;43m.\u001b[39;49m\u001b[43mopen\u001b[49m\u001b[43m(\u001b[49m\u001b[38;5;28;43mself\u001b[39;49m\u001b[38;5;241;43m.\u001b[39;49m\u001b[43m_id\u001b[49m\u001b[43m,\u001b[49m\u001b[43m \u001b[49m\u001b[38;5;28;43mself\u001b[39;49m\u001b[38;5;241;43m.\u001b[39;49m\u001b[43m_e\u001b[49m\u001b[43m(\u001b[49m\u001b[43mname\u001b[49m\u001b[43m)\u001b[49m\u001b[43m)\u001b[49m\n\u001b[1;32m     58\u001b[0m     \u001b[38;5;28;01mif\u001b[39;00m is_empty_dataspace(attr):\n\u001b[1;32m     59\u001b[0m         \u001b[38;5;28;01mreturn\u001b[39;00m Empty(attr\u001b[38;5;241m.\u001b[39mdtype)\n",
      "File \u001b[0;32mh5py/_objects.pyx:54\u001b[0m, in \u001b[0;36mh5py._objects.with_phil.wrapper\u001b[0;34m()\u001b[0m\n",
      "File \u001b[0;32mh5py/_objects.pyx:55\u001b[0m, in \u001b[0;36mh5py._objects.with_phil.wrapper\u001b[0;34m()\u001b[0m\n",
      "File \u001b[0;32mh5py/h5a.pyx:80\u001b[0m, in \u001b[0;36mh5py.h5a.open\u001b[0;34m()\u001b[0m\n",
      "\u001b[0;31mKeyError\u001b[0m: \"Can't open attribute (can't locate attribute: 'rapic_UNFOLDING')\""
     ]
    }
   ],
   "source": [
    "radar = pyart.aux_io.read_odim_h5(new_odim_dualprf)\n",
    "radar = vcor_dual_prf.instrument_parameters_odimh5(radar=radar, odim_file=new_odim_dualprf)"
   ]
  },
  {
   "cell_type": "code",
   "execution_count": null,
   "metadata": {},
   "outputs": [],
   "source": []
  }
 ],
 "metadata": {
  "kernelspec": {
   "display_name": "openradar",
   "language": "python",
   "name": "python3"
  },
  "language_info": {
   "codemirror_mode": {
    "name": "ipython",
    "version": 3
   },
   "file_extension": ".py",
   "mimetype": "text/x-python",
   "name": "python",
   "nbconvert_exporter": "python",
   "pygments_lexer": "ipython3",
   "version": "3.8.15"
  }
 },
 "nbformat": 4,
 "nbformat_minor": 2
}
