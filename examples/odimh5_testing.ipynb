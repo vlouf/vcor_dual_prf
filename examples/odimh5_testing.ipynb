{
 "cells": [
  {
   "cell_type": "code",
   "execution_count": 1,
   "metadata": {},
   "outputs": [
    {
     "name": "stdout",
     "output_type": "stream",
     "text": [
      "\n",
      "## You are using the Python ARM Radar Toolkit (Py-ART), an open source\n",
      "## library for working with weather radar data. Py-ART is partly\n",
      "## supported by the U.S. Department of Energy as part of the Atmospheric\n",
      "## Radiation Measurement (ARM) Climate Research Facility, an Office of\n",
      "## Science user facility.\n",
      "##\n",
      "## If you use this software to prepare a publication, please cite:\n",
      "##\n",
      "##     JJ Helmus and SM Collis, JORS 2016, doi: 10.5334/jors.119\n",
      "\n"
     ]
    },
    {
     "name": "stderr",
     "output_type": "stream",
     "text": [
      "/g/data/en0/jss548/miniconda3/envs/openradar/lib/python3.8/site-packages/tqdm/auto.py:22: TqdmWarning: IProgress not found. Please update jupyter and ipywidgets. See https://ipywidgets.readthedocs.io/en/stable/user_install.html\n",
      "  from .autonotebook import tqdm as notebook_tqdm\n"
     ]
    }
   ],
   "source": [
    "#test vcor for odimh5 data\n",
    "import pyart\n",
    "import vcor_dual_prf\n"
   ]
  },
  {
   "cell_type": "code",
   "execution_count": 2,
   "metadata": {},
   "outputs": [],
   "source": [
    "new_odim_nodualprf = '/g/data/kl02/jss548/aura/testing_files/dualprf/66_20231210_032500.pvol.h5'\n",
    "new_odim_dualprf = '/g/data/kl02/jss548/aura/testing_files/dualprf/95_20240320_045100.pvol.h5'\n",
    "old_odim = '/g/data/kl02/jss548/aura/testing_files/dualprf/dualprf_IDR03_2012.h5'\n",
    "old_odim2 = '/g/data/kl02/jss548/aura/testing_files/dualprf/03_20200915_090523_mixed_single_dual.pvol.h5'\n"
   ]
  },
  {
   "cell_type": "code",
   "execution_count": 3,
   "metadata": {},
   "outputs": [
    {
     "name": "stdout",
     "output_type": "stream",
     "text": [
      "dict_keys(['nyquist_velocity', 'prt', 'prt_ratio', 'prt_mode', 'prf_flag'])\n",
      "{'units': 'seconds', 'comments': 'Pulse repetition time. For staggered prt, also see prt_ratio.', 'meta_group': 'instrument_parameters', 'long_name': 'Pulse repetition time', 'data': array([0.0005   , 0.0005   , 0.0005   , ..., 0.0016129, 0.0016129,\n",
      "       0.0016129])}\n",
      "{'units': 'unitless', 'meta_group': 'instrument_parameters', 'long_name': 'Pulse repetition frequency ratio', 'data': array([1.  , 1.  , 1.  , ..., 0.75, 0.75, 0.75])}\n",
      "{'comments': 'Pulsing mode Options are: \"fixed\", \"staggered\", \"dual\". Assumed \"fixed\" if missing.', 'meta_group': 'instrument_parameters', 'long_name': 'Pulsing mode', 'units': 'unitless', 'data': array([b'fixed', b'dual', b'dual', b'dual', b'dual', b'dual', b'dual',\n",
      "       b'dual', b'dual', b'dual', b'dual', b'dual', b'dual', b'dual'],\n",
      "      dtype='|S5')}\n",
      "{'units': 'unitless', 'comments': 'PRF used to collect ray. 0 for high PRF, 1 for low PRF.', 'meta_group': 'instrument_parameters', 'long_name': 'PRF flag', 'data': array([0, 0, 0, ..., 0, 1, 0])}\n"
     ]
    }
   ],
   "source": [
    "radar = pyart.aux_io.read_odim_h5(new_odim_dualprf)\n",
    "radar = vcor_dual_prf.file_tools.instrument_parameters_odimh5(radar=radar, odim_file=new_odim_dualprf)\n",
    "print(radar.instrument_parameters.keys())\n",
    "print(radar.instrument_parameters['prt'])\n",
    "print(radar.instrument_parameters['prt_ratio'])\n",
    "print(radar.instrument_parameters['prt_mode'])\n",
    "print(radar.instrument_parameters['prf_flag'])"
   ]
  },
  {
   "cell_type": "code",
   "execution_count": 4,
   "metadata": {},
   "outputs": [
    {
     "name": "stdout",
     "output_type": "stream",
     "text": [
      "dict_keys(['nyquist_velocity', 'prt', 'prt_ratio', 'prt_mode', 'prf_flag'])\n",
      "{'units': 'seconds', 'comments': 'Pulse repetition time. For staggered prt, also see prt_ratio.', 'meta_group': 'instrument_parameters', 'long_name': 'Pulse repetition time', 'data': array([0.00083333, 0.00083333, 0.00083333, ..., 0.00166667, 0.00166667,\n",
      "       0.00166667])}\n",
      "{'units': 'unitless', 'meta_group': 'instrument_parameters', 'long_name': 'Pulse repetition frequency ratio', 'data': array([1.        , 1.        , 1.        , ..., 0.66666667, 0.66666667,\n",
      "       0.66666667])}\n",
      "{'comments': 'Pulsing mode Options are: \"fixed\", \"staggered\", \"dual\". Assumed \"fixed\" if missing.', 'meta_group': 'instrument_parameters', 'long_name': 'Pulsing mode', 'units': 'unitless', 'data': array([b'fixed', b'fixed', b'fixed', b'fixed', b'fixed', b'fixed',\n",
      "       b'fixed', b'fixed', b'fixed', b'fixed', b'fixed', b'dual', b'dual',\n",
      "       b'dual'], dtype='|S5')}\n",
      "{'units': 'unitless', 'comments': 'PRF used to collect ray. 0 for high PRF, 1 for low PRF.', 'meta_group': 'instrument_parameters', 'long_name': 'PRF flag', 'data': array([0, 0, 0, ..., 0, 1, 0])}\n"
     ]
    }
   ],
   "source": [
    "radar = pyart.aux_io.read_odim_h5(new_odim_nodualprf)\n",
    "radar = vcor_dual_prf.file_tools.instrument_parameters_odimh5(radar=radar, odim_file=new_odim_nodualprf)\n",
    "print(radar.instrument_parameters.keys())\n",
    "print(radar.instrument_parameters['prt'])\n",
    "print(radar.instrument_parameters['prt_ratio'])\n",
    "print(radar.instrument_parameters['prt_mode'])\n",
    "print(radar.instrument_parameters['prf_flag'])"
   ]
  },
  {
   "cell_type": "code",
   "execution_count": null,
   "metadata": {},
   "outputs": [],
   "source": []
  }
 ],
 "metadata": {
  "kernelspec": {
   "display_name": "openradar",
   "language": "python",
   "name": "python3"
  },
  "language_info": {
   "codemirror_mode": {
    "name": "ipython",
    "version": 3
   },
   "file_extension": ".py",
   "mimetype": "text/x-python",
   "name": "python",
   "nbconvert_exporter": "python",
   "pygments_lexer": "ipython3",
   "version": "3.8.15"
  }
 },
 "nbformat": 4,
 "nbformat_minor": 2
}
