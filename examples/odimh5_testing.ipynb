{
 "cells": [
  {
   "cell_type": "code",
   "execution_count": 1,
   "metadata": {},
   "outputs": [
    {
     "name": "stdout",
     "output_type": "stream",
     "text": [
      "\n",
      "## You are using the Python ARM Radar Toolkit (Py-ART), an open source\n",
      "## library for working with weather radar data. Py-ART is partly\n",
      "## supported by the U.S. Department of Energy as part of the Atmospheric\n",
      "## Radiation Measurement (ARM) Climate Research Facility, an Office of\n",
      "## Science user facility.\n",
      "##\n",
      "## If you use this software to prepare a publication, please cite:\n",
      "##\n",
      "##     JJ Helmus and SM Collis, JORS 2016, doi: 10.5334/jors.119\n",
      "\n"
     ]
    }
   ],
   "source": [
    "#test vcor for odimh5 data\n",
    "import pyart\n",
    "import vcor_dual_prf"
   ]
  },
  {
   "cell_type": "code",
   "execution_count": 2,
   "metadata": {},
   "outputs": [],
   "source": [
    "new_odim_nodualprf = '/g/data/kl02/jss548/aura/testing_files/dualprf/66_20231210_032500.pvol.h5'\n",
    "new_odim_dualprf = '/g/data/kl02/jss548/aura/testing_files/dualprf/95_20240320_045100.pvol.h5'\n",
    "old_odim = '/g/data/kl02/jss548/aura/testing_files/dualprf/dualprf_IDR03_2012.h5'\n",
    "old_odim2 = '/g/data/kl02/jss548/aura/testing_files/dualprf/03_20200915_090523_mixed_single_dual.pvol.h5'\n"
   ]
  },
  {
   "cell_type": "code",
   "execution_count": 5,
   "metadata": {},
   "outputs": [
    {
     "name": "stdout",
     "output_type": "stream",
     "text": [
      "dict_keys(['nyquist_velocity', 'prt', 'prt_ratio', 'prt_mode', 'prf_flag'])\n",
      "[0.0005    0.0005    0.0005    ... 0.0016129 0.0016129 0.0016129]\n",
      "[1.         1.         1.         ... 1.33333333 1.33333333 1.33333333]\n",
      "[b'fixed' b'dual' b'dual' b'dual' b'dual' b'dual' b'dual' b'dual' b'dual'\n",
      " b'dual' b'dual' b'dual' b'dual' b'dual']\n",
      "[0 0 0 ... 0 1 0]\n"
     ]
    }
   ],
   "source": [
    "radar = pyart.aux_io.read_odim_h5(new_odim_dualprf)\n",
    "radar = vcor_dual_prf.file_tools.instrument_parameters_odimh5(radar=radar, odim_file=new_odim_dualprf)\n",
    "print(radar.instrument_parameters.keys())\n",
    "print(radar.instrument_parameters['prt']['data'])\n",
    "print(radar.instrument_parameters['prt_ratio']['data'])\n",
    "print(radar.instrument_parameters['prt_mode']['data'])\n",
    "print(radar.instrument_parameters['prf_flag']['data'])"
   ]
  },
  {
   "cell_type": "code",
   "execution_count": 6,
   "metadata": {},
   "outputs": [
    {
     "name": "stdout",
     "output_type": "stream",
     "text": [
      "dict_keys(['nyquist_velocity', 'prt', 'prt_ratio', 'prt_mode', 'prf_flag'])\n",
      "[0.00083333 0.00083333 0.00083333 ... 0.00166667 0.00166667 0.00166667]\n",
      "[1.  1.  1.  ... 1.5 1.5 1.5]\n",
      "[b'fixed' b'fixed' b'fixed' b'fixed' b'fixed' b'fixed' b'fixed' b'fixed'\n",
      " b'fixed' b'fixed' b'fixed' b'dual' b'dual' b'dual']\n",
      "[0 0 0 ... 0 1 0]\n"
     ]
    }
   ],
   "source": [
    "radar = pyart.aux_io.read_odim_h5(new_odim_nodualprf)\n",
    "radar = vcor_dual_prf.file_tools.instrument_parameters_odimh5(radar=radar, odim_file=new_odim_nodualprf)\n",
    "print(radar.instrument_parameters.keys())\n",
    "print(radar.instrument_parameters['prt']['data'])\n",
    "print(radar.instrument_parameters['prt_ratio']['data'])\n",
    "print(radar.instrument_parameters['prt_mode']['data'])\n",
    "print(radar.instrument_parameters['prf_flag']['data'])"
   ]
  },
  {
   "cell_type": "code",
   "execution_count": 9,
   "metadata": {},
   "outputs": [
    {
     "ename": "KeyError",
     "evalue": "\"Unable to synchronously open object (object 'dataset14' doesn't exist)\"",
     "output_type": "error",
     "traceback": [
      "\u001b[0;31m---------------------------------------------------------------------------\u001b[0m",
      "\u001b[0;31mKeyError\u001b[0m                                  Traceback (most recent call last)",
      "Cell \u001b[0;32mIn[9], line 2\u001b[0m\n\u001b[1;32m      1\u001b[0m radar \u001b[38;5;241m=\u001b[39m pyart\u001b[38;5;241m.\u001b[39maux_io\u001b[38;5;241m.\u001b[39mread_odim_h5(new_odim_nodualprf)\n\u001b[0;32m----> 2\u001b[0m radar \u001b[38;5;241m=\u001b[39m \u001b[43mvcor_dual_prf\u001b[49m\u001b[38;5;241;43m.\u001b[39;49m\u001b[43mfile_tools\u001b[49m\u001b[38;5;241;43m.\u001b[39;49m\u001b[43minstrument_parameters_odimh5\u001b[49m\u001b[43m(\u001b[49m\u001b[43mradar\u001b[49m\u001b[38;5;241;43m=\u001b[39;49m\u001b[43mradar\u001b[49m\u001b[43m,\u001b[49m\u001b[43m \u001b[49m\u001b[43modim_file\u001b[49m\u001b[38;5;241;43m=\u001b[39;49m\u001b[43mold_odim2\u001b[49m\u001b[43m)\u001b[49m\n\u001b[1;32m      3\u001b[0m \u001b[38;5;28mprint\u001b[39m(radar\u001b[38;5;241m.\u001b[39minstrument_parameters\u001b[38;5;241m.\u001b[39mkeys())\n\u001b[1;32m      4\u001b[0m \u001b[38;5;28mprint\u001b[39m(radar\u001b[38;5;241m.\u001b[39minstrument_parameters[\u001b[38;5;124m'\u001b[39m\u001b[38;5;124mprt\u001b[39m\u001b[38;5;124m'\u001b[39m][\u001b[38;5;124m'\u001b[39m\u001b[38;5;124mdata\u001b[39m\u001b[38;5;124m'\u001b[39m])\n",
      "File \u001b[0;32m/scratch/en0/jss548/miniforge3/envs/openradar/lib/python3.12/site-packages/vcor_dual_prf-1.0.0-py3.12.egg/vcor_dual_prf/file_tools.py:60\u001b[0m, in \u001b[0;36minstrument_parameters_odimh5\u001b[0;34m(radar, odim_file)\u001b[0m\n\u001b[1;32m     42\u001b[0m \u001b[38;5;28;01mdef\u001b[39;00m \u001b[38;5;21minstrument_parameters_odimh5\u001b[39m(radar, odim_file):\n\u001b[1;32m     43\u001b[0m \u001b[38;5;250m    \u001b[39m\u001b[38;5;124;03m\"\"\"\u001b[39;00m\n\u001b[1;32m     44\u001b[0m \u001b[38;5;124;03m    Builds the dictionary 'instrument_parameters' in the radar instance, \u001b[39;00m\n\u001b[1;32m     45\u001b[0m \u001b[38;5;124;03m    using the parameter metadata in the input odim5 file.\u001b[39;00m\n\u001b[0;32m   (...)\u001b[0m\n\u001b[1;32m     57\u001b[0m \u001b[38;5;124;03m        Py-ART radar structure with added 'instrument_parameters'.\u001b[39;00m\n\u001b[1;32m     58\u001b[0m \u001b[38;5;124;03m    \"\"\"\u001b[39;00m\n\u001b[0;32m---> 60\u001b[0m     ny, prt, prt_mode, prt_ratio, prf_flag \u001b[38;5;241m=\u001b[39m \u001b[43m_get_prf_pars_odimh5\u001b[49m\u001b[43m(\u001b[49m\u001b[43modim_file\u001b[49m\u001b[43m,\u001b[49m\u001b[43m \u001b[49m\u001b[43mnrays\u001b[49m\u001b[38;5;241;43m=\u001b[39;49m\u001b[43mradar\u001b[49m\u001b[38;5;241;43m.\u001b[39;49m\u001b[43mnrays\u001b[49m\u001b[43m,\u001b[49m\u001b[43m \u001b[49m\n\u001b[1;32m     61\u001b[0m \u001b[43m                                                                  \u001b[49m\u001b[43mnsweeps\u001b[49m\u001b[38;5;241;43m=\u001b[39;49m\u001b[43mradar\u001b[49m\u001b[38;5;241;43m.\u001b[39;49m\u001b[43mnsweeps\u001b[49m\u001b[43m,\u001b[49m\u001b[43m \u001b[49m\u001b[43msw_start_end\u001b[49m\u001b[38;5;241;43m=\u001b[39;49m\u001b[43mradar\u001b[49m\u001b[38;5;241;43m.\u001b[39;49m\u001b[43mget_start_end\u001b[49m\u001b[43m)\u001b[49m\n\u001b[1;32m     63\u001b[0m     \u001b[38;5;66;03m# Create dictionaries\u001b[39;00m\n\u001b[1;32m     64\u001b[0m     mode_dict \u001b[38;5;241m=\u001b[39m {\u001b[38;5;124m'\u001b[39m\u001b[38;5;124mcomments\u001b[39m\u001b[38;5;124m'\u001b[39m: \u001b[38;5;124m'\u001b[39m\u001b[38;5;124mPulsing mode Options are: \u001b[39m\u001b[38;5;124m\"\u001b[39m\u001b[38;5;124mfixed\u001b[39m\u001b[38;5;124m\"\u001b[39m\u001b[38;5;124m, \u001b[39m\u001b[38;5;124m\"\u001b[39m\u001b[38;5;124mstaggered\u001b[39m\u001b[38;5;124m\"\u001b[39m\u001b[38;5;124m, \u001b[39m\u001b[38;5;124m\"\u001b[39m\u001b[38;5;124mdual\u001b[39m\u001b[38;5;124m\"\u001b[39m\u001b[38;5;124m. Assumed \u001b[39m\u001b[38;5;124m\"\u001b[39m\u001b[38;5;124mfixed\u001b[39m\u001b[38;5;124m\"\u001b[39m\u001b[38;5;124m if missing.\u001b[39m\u001b[38;5;124m'\u001b[39m,\n\u001b[1;32m     65\u001b[0m                  \u001b[38;5;124m'\u001b[39m\u001b[38;5;124mmeta_group\u001b[39m\u001b[38;5;124m'\u001b[39m: \u001b[38;5;124m'\u001b[39m\u001b[38;5;124minstrument_parameters\u001b[39m\u001b[38;5;124m'\u001b[39m,\n\u001b[1;32m     66\u001b[0m                  \u001b[38;5;124m'\u001b[39m\u001b[38;5;124mlong_name\u001b[39m\u001b[38;5;124m'\u001b[39m: \u001b[38;5;124m'\u001b[39m\u001b[38;5;124mPulsing mode\u001b[39m\u001b[38;5;124m'\u001b[39m,\n\u001b[1;32m     67\u001b[0m                  \u001b[38;5;124m'\u001b[39m\u001b[38;5;124munits\u001b[39m\u001b[38;5;124m'\u001b[39m: \u001b[38;5;124m'\u001b[39m\u001b[38;5;124munitless\u001b[39m\u001b[38;5;124m'\u001b[39m,\n\u001b[1;32m     68\u001b[0m                  \u001b[38;5;124m'\u001b[39m\u001b[38;5;124mdata\u001b[39m\u001b[38;5;124m'\u001b[39m: prt_mode}\n",
      "File \u001b[0;32m/scratch/en0/jss548/miniforge3/envs/openradar/lib/python3.12/site-packages/vcor_dual_prf-1.0.0-py3.12.egg/vcor_dual_prf/file_tools.py:139\u001b[0m, in \u001b[0;36m_get_prf_pars_odimh5\u001b[0;34m(odim_file, nrays, nsweeps, sw_start_end)\u001b[0m\n\u001b[1;32m    137\u001b[0m \u001b[38;5;66;03m# extract PRF/NI data from odimh5 file\u001b[39;00m\n\u001b[1;32m    138\u001b[0m d_name \u001b[38;5;241m=\u001b[39m \u001b[38;5;124m'\u001b[39m\u001b[38;5;124mdataset\u001b[39m\u001b[38;5;124m'\u001b[39m \u001b[38;5;241m+\u001b[39m \u001b[38;5;28mstr\u001b[39m(sw\u001b[38;5;241m+\u001b[39m\u001b[38;5;241m1\u001b[39m)\n\u001b[0;32m--> 139\u001b[0m d_how \u001b[38;5;241m=\u001b[39m \u001b[43mhfile\u001b[49m\u001b[43m[\u001b[49m\u001b[43md_name\u001b[49m\u001b[43m]\u001b[49m[\u001b[38;5;124m'\u001b[39m\u001b[38;5;124mhow\u001b[39m\u001b[38;5;124m'\u001b[39m]\u001b[38;5;241m.\u001b[39mattrs\n\u001b[1;32m    140\u001b[0m \u001b[38;5;66;03m#extract NI\u001b[39;00m\n\u001b[1;32m    141\u001b[0m \u001b[38;5;28;01mtry\u001b[39;00m:\n",
      "File \u001b[0;32mh5py/_objects.pyx:54\u001b[0m, in \u001b[0;36mh5py._objects.with_phil.wrapper\u001b[0;34m()\u001b[0m\n",
      "File \u001b[0;32mh5py/_objects.pyx:55\u001b[0m, in \u001b[0;36mh5py._objects.with_phil.wrapper\u001b[0;34m()\u001b[0m\n",
      "File \u001b[0;32m/scratch/en0/jss548/miniforge3/envs/openradar/lib/python3.12/site-packages/h5py/_hl/group.py:357\u001b[0m, in \u001b[0;36mGroup.__getitem__\u001b[0;34m(self, name)\u001b[0m\n\u001b[1;32m    355\u001b[0m         \u001b[38;5;28;01mraise\u001b[39;00m \u001b[38;5;167;01mValueError\u001b[39;00m(\u001b[38;5;124m\"\u001b[39m\u001b[38;5;124mInvalid HDF5 object reference\u001b[39m\u001b[38;5;124m\"\u001b[39m)\n\u001b[1;32m    356\u001b[0m \u001b[38;5;28;01melif\u001b[39;00m \u001b[38;5;28misinstance\u001b[39m(name, (\u001b[38;5;28mbytes\u001b[39m, \u001b[38;5;28mstr\u001b[39m)):\n\u001b[0;32m--> 357\u001b[0m     oid \u001b[38;5;241m=\u001b[39m \u001b[43mh5o\u001b[49m\u001b[38;5;241;43m.\u001b[39;49m\u001b[43mopen\u001b[49m\u001b[43m(\u001b[49m\u001b[38;5;28;43mself\u001b[39;49m\u001b[38;5;241;43m.\u001b[39;49m\u001b[43mid\u001b[49m\u001b[43m,\u001b[49m\u001b[43m \u001b[49m\u001b[38;5;28;43mself\u001b[39;49m\u001b[38;5;241;43m.\u001b[39;49m\u001b[43m_e\u001b[49m\u001b[43m(\u001b[49m\u001b[43mname\u001b[49m\u001b[43m)\u001b[49m\u001b[43m,\u001b[49m\u001b[43m \u001b[49m\u001b[43mlapl\u001b[49m\u001b[38;5;241;43m=\u001b[39;49m\u001b[38;5;28;43mself\u001b[39;49m\u001b[38;5;241;43m.\u001b[39;49m\u001b[43m_lapl\u001b[49m\u001b[43m)\u001b[49m\n\u001b[1;32m    358\u001b[0m \u001b[38;5;28;01melse\u001b[39;00m:\n\u001b[1;32m    359\u001b[0m     \u001b[38;5;28;01mraise\u001b[39;00m \u001b[38;5;167;01mTypeError\u001b[39;00m(\u001b[38;5;124m\"\u001b[39m\u001b[38;5;124mAccessing a group is done with bytes or str, \u001b[39m\u001b[38;5;124m\"\u001b[39m\n\u001b[1;32m    360\u001b[0m                     \u001b[38;5;124m\"\u001b[39m\u001b[38;5;124mnot \u001b[39m\u001b[38;5;132;01m{}\u001b[39;00m\u001b[38;5;124m\"\u001b[39m\u001b[38;5;241m.\u001b[39mformat(\u001b[38;5;28mtype\u001b[39m(name)))\n",
      "File \u001b[0;32mh5py/_objects.pyx:54\u001b[0m, in \u001b[0;36mh5py._objects.with_phil.wrapper\u001b[0;34m()\u001b[0m\n",
      "File \u001b[0;32mh5py/_objects.pyx:55\u001b[0m, in \u001b[0;36mh5py._objects.with_phil.wrapper\u001b[0;34m()\u001b[0m\n",
      "File \u001b[0;32mh5py/h5o.pyx:241\u001b[0m, in \u001b[0;36mh5py.h5o.open\u001b[0;34m()\u001b[0m\n",
      "\u001b[0;31mKeyError\u001b[0m: \"Unable to synchronously open object (object 'dataset14' doesn't exist)\""
     ]
    }
   ],
   "source": [
    "radar = pyart.aux_io.read_odim_h5(new_odim_nodualprf)\n",
    "radar = vcor_dual_prf.file_tools.instrument_parameters_odimh5(radar=radar, odim_file=old_odim2)\n",
    "print(radar.instrument_parameters.keys())\n",
    "print(radar.instrument_parameters['prt']['data'])\n",
    "print(radar.instrument_parameters['prt_ratio']['data'])\n",
    "print(radar.instrument_parameters['prt_mode']['data'])\n",
    "print(radar.instrument_parameters['prf_flag']['data'])"
   ]
  },
  {
   "cell_type": "code",
   "execution_count": null,
   "metadata": {},
   "outputs": [],
   "source": []
  }
 ],
 "metadata": {
  "kernelspec": {
   "display_name": "openradar",
   "language": "python",
   "name": "python3"
  },
  "language_info": {
   "codemirror_mode": {
    "name": "ipython",
    "version": 3
   },
   "file_extension": ".py",
   "mimetype": "text/x-python",
   "name": "python",
   "nbconvert_exporter": "python",
   "pygments_lexer": "ipython3",
   "version": "3.12.3"
  }
 },
 "nbformat": 4,
 "nbformat_minor": 2
}
